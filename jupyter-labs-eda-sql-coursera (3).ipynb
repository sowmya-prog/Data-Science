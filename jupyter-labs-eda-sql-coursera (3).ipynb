{
    "cells": [
        {
            "cell_type": "markdown",
            "metadata": {},
            "source": "<center>\n    <img src=\"https://gitlab.com/ibm/skills-network/courses/placeholder101/-/raw/master/labs/module%201/images/IDSNlogo.png\"  width=\"300\" alt=\"cognitiveclass.ai logo\"  />\n</center>\n\n<h1 align=center><font size = 5>Assignment: SQL Notebook for Peer Assignment</font></h1>\n\nEstimated time needed: **60** minutes.\n\n## Introduction\n\nUsing this Python notebook you will:\n\n1.  Understand the Spacex DataSet\n2.  Load the dataset  into the corresponding table in a Db2 database\n3.  Execute SQL queries to answer assignment questions\n"
        },
        {
            "cell_type": "markdown",
            "metadata": {},
            "source": "## Overview of the DataSet\n\nSpaceX has gained worldwide attention for a series of historic milestones.\n\nIt is the only private company ever to return a spacecraft from low-earth orbit, which it first accomplished in December 2010.\nSpaceX advertises Falcon 9 rocket launches on its website with a cost of 62 million dollars wheras other providers cost upward of 165 million dollars each, much of the savings is because Space X can reuse the first stage.\n\nTherefore if we can determine if the first stage will land, we can determine the cost of a launch.\n\nThis information can be used if an alternate company wants to bid against SpaceX for a rocket launch.\n\nThis dataset includes a record for each payload carried during a SpaceX mission into outer space.\n"
        },
        {
            "cell_type": "markdown",
            "metadata": {},
            "source": "### Download the datasets\n\nThis assignment requires you to load the spacex dataset.\n\nIn many cases the dataset to be analyzed is available as a .CSV (comma separated values) file, perhaps on the internet. Click on the link below to download and save the dataset (.CSV file):\n\n<a href=\"https://cf-courses-data.s3.us.cloud-object-storage.appdomain.cloud/IBM-DS0321EN-SkillsNetwork/labs/module_2/data/Spacex.csv?utm_medium=Exinfluencer&utm_source=Exinfluencer&utm_content=000026UJ&utm_term=10006555&utm_id=NA-SkillsNetwork-Channel-SkillsNetworkCoursesIBMDS0321ENSkillsNetwork26802033-2021-01-01\" target=\"_blank\">Spacex DataSet</a>\n"
        },
        {
            "cell_type": "markdown",
            "metadata": {},
            "source": "### Store the dataset in database table\n\n**it is highly recommended to manually load the table using the database console LOAD tool in DB2**.\n\n<img src = \"https://cf-courses-data.s3.us.cloud-object-storage.appdomain.cloud/IBM-DS0321EN-SkillsNetwork/labs/module_2/images/spacexload.png\">\n\nNow open the Db2 console, open the LOAD tool, Select / Drag the .CSV file for the  dataset, Next create a New Table, and then follow the steps on-screen instructions to load the data. Name the new table as follows:\n\n**SPACEXDATASET**\n\n**Follow these steps while using old DB2 UI which is having Open Console Screen**\n\n**Note:While loading Spacex dataset, ensure that detect datatypes is disabled. Later click on the pencil icon(edit option).**\n\n1.  Change the Date Format by manually typing DD-MM-YYYY and timestamp format as DD-MM-YYYY HH\\:MM:SS.\n\n    Here you should place the cursor at Date field and manually type as DD-MM-YYYY.\n\n2.  Change the PAYLOAD_MASS\\_\\_KG\\_  datatype  to INTEGER.\n\n<img src = \"https://cf-courses-data.s3.us.cloud-object-storage.appdomain.cloud/IBM-DS0321EN-SkillsNetwork/labs/module_2/images/spacexload2.png\">\n"
        },
        {
            "cell_type": "markdown",
            "metadata": {},
            "source": "**Changes to be considered when having DB2 instance with the new UI having Go to UI screen**\n\n*   Refer to this insruction in this <a href=\"https://cf-courses-data.s3.us.cloud-object-storage.appdomain.cloud/IBMDeveloperSkillsNetwork-DB0201EN-SkillsNetwork/labs/Labs_Coursera_V5/labs/Lab%20-%20Sign%20up%20for%20IBM%20Cloud%20-%20Create%20Db2%20service%20instance%20-%20Get%20started%20with%20the%20Db2%20console/instructional-labs.md.html?utm_medium=Exinfluencer&utm_source=Exinfluencer&utm_content=000026UJ&utm_term=10006555&utm_id=NA-SkillsNetwork-Channel-SkillsNetworkCoursesIBMDS0321ENSkillsNetwork26802033-2021-01-01\">link</a> for viewing  the new  Go to UI screen.\n\n*   Later click on **Data link(below SQL)**  in the Go to UI screen  and click on **Load Data** tab.\n\n*   Later browse for the downloaded spacex file.\n\n<img src=\"https://cf-courses-data.s3.us.cloud-object-storage.appdomain.cloud/IBM-DS0321EN-SkillsNetwork/labs/module_2/images/browsefile.png\" width=\"800\"/>\n\n*   Once done select the schema andload the file.\n\n <img src=\"https://cf-courses-data.s3.us.cloud-object-storage.appdomain.cloud/IBM-DS0321EN-SkillsNetwork/labs/module_2/images/spacexload3.png\" width=\"800\"/>\n"
        },
        {
            "cell_type": "code",
            "execution_count": 1,
            "metadata": {},
            "outputs": [
                {
                    "name": "stdout",
                    "output_type": "stream",
                    "text": "Collecting sqlalchemy==1.3.9\n  Downloading SQLAlchemy-1.3.9.tar.gz (6.0 MB)\n\u001b[K     |\u2588\u2588\u2588\u2588\u2588\u2588\u2588\u2588\u2588\u2588\u2588\u2588\u2588\u2588\u2588\u2588\u2588\u2588\u2588\u2588\u2588\u2588\u2588\u2588\u2588\u2588\u2588\u2588\u2588\u2588\u2588\u2588| 6.0 MB 17.2 MB/s eta 0:00:01\n\u001b[?25hBuilding wheels for collected packages: sqlalchemy\n  Building wheel for sqlalchemy (setup.py) ... \u001b[?25ldone\n\u001b[?25h  Created wheel for sqlalchemy: filename=SQLAlchemy-1.3.9-cp38-cp38-linux_x86_64.whl size=1209504 sha256=6f4f822530d8c3bee690d711742e3978f147e00d5eb1d9bbc5490f7f20976474\n  Stored in directory: /tmp/wsuser/.cache/pip/wheels/cb/43/46/fa638f2422554332b7865d600275b24568bf60e76104a94bb4\nSuccessfully built sqlalchemy\nInstalling collected packages: sqlalchemy\n  Attempting uninstall: sqlalchemy\n    Found existing installation: SQLAlchemy 1.4.22\n    Uninstalling SQLAlchemy-1.4.22:\n      Successfully uninstalled SQLAlchemy-1.4.22\nSuccessfully installed sqlalchemy-1.3.9\nRequirement already satisfied: ibm_db_sa in /opt/conda/envs/Python-3.8-main/lib/python3.8/site-packages (0.3.7)\nRequirement already satisfied: ibm-db>=2.0.0 in /opt/conda/envs/Python-3.8-main/lib/python3.8/site-packages (from ibm_db_sa) (3.0.4)\nRequirement already satisfied: sqlalchemy>=0.7.3 in /opt/conda/envs/Python-3.8-main/lib/python3.8/site-packages (from ibm_db_sa) (1.3.9)\nCollecting ipython-sql\n  Downloading ipython_sql-0.4.0-py3-none-any.whl (19 kB)\nRequirement already satisfied: six in /opt/conda/envs/Python-3.8-main/lib/python3.8/site-packages (from ipython-sql) (1.15.0)\nRequirement already satisfied: sqlalchemy>=0.6.7 in /opt/conda/envs/Python-3.8-main/lib/python3.8/site-packages (from ipython-sql) (1.3.9)\nCollecting sqlparse\n  Downloading sqlparse-0.4.2-py3-none-any.whl (42 kB)\n\u001b[K     |\u2588\u2588\u2588\u2588\u2588\u2588\u2588\u2588\u2588\u2588\u2588\u2588\u2588\u2588\u2588\u2588\u2588\u2588\u2588\u2588\u2588\u2588\u2588\u2588\u2588\u2588\u2588\u2588\u2588\u2588\u2588\u2588| 42 kB 3.0 MB/s  eta 0:00:01\n\u001b[?25hCollecting prettytable<1\n  Downloading prettytable-0.7.2.zip (28 kB)\nRequirement already satisfied: ipython>=1.0 in /opt/conda/envs/Python-3.8-main/lib/python3.8/site-packages (from ipython-sql) (7.27.0)\nRequirement already satisfied: ipython-genutils>=0.1.0 in /opt/conda/envs/Python-3.8-main/lib/python3.8/site-packages (from ipython-sql) (0.2.0)\nRequirement already satisfied: pygments in /opt/conda/envs/Python-3.8-main/lib/python3.8/site-packages (from ipython>=1.0->ipython-sql) (2.9.0)\nRequirement already satisfied: pickleshare in /opt/conda/envs/Python-3.8-main/lib/python3.8/site-packages (from ipython>=1.0->ipython-sql) (0.7.5)\nRequirement already satisfied: decorator in /opt/conda/envs/Python-3.8-main/lib/python3.8/site-packages (from ipython>=1.0->ipython-sql) (5.0.9)\nRequirement already satisfied: pexpect>4.3 in /opt/conda/envs/Python-3.8-main/lib/python3.8/site-packages (from ipython>=1.0->ipython-sql) (4.8.0)\nRequirement already satisfied: jedi>=0.16 in /opt/conda/envs/Python-3.8-main/lib/python3.8/site-packages (from ipython>=1.0->ipython-sql) (0.17.2)\nRequirement already satisfied: matplotlib-inline in /opt/conda/envs/Python-3.8-main/lib/python3.8/site-packages (from ipython>=1.0->ipython-sql) (0.1.2)\nRequirement already satisfied: backcall in /opt/conda/envs/Python-3.8-main/lib/python3.8/site-packages (from ipython>=1.0->ipython-sql) (0.2.0)\nRequirement already satisfied: prompt-toolkit!=3.0.0,!=3.0.1,<3.1.0,>=2.0.0 in /opt/conda/envs/Python-3.8-main/lib/python3.8/site-packages (from ipython>=1.0->ipython-sql) (3.0.20)\nRequirement already satisfied: traitlets>=4.2 in /opt/conda/envs/Python-3.8-main/lib/python3.8/site-packages (from ipython>=1.0->ipython-sql) (5.0.5)\nRequirement already satisfied: setuptools>=18.5 in /opt/conda/envs/Python-3.8-main/lib/python3.8/site-packages (from ipython>=1.0->ipython-sql) (52.0.0.post20211006)\nRequirement already satisfied: parso<0.8.0,>=0.7.0 in /opt/conda/envs/Python-3.8-main/lib/python3.8/site-packages (from jedi>=0.16->ipython>=1.0->ipython-sql) (0.7.0)\nRequirement already satisfied: ptyprocess>=0.5 in /opt/conda/envs/Python-3.8-main/lib/python3.8/site-packages (from pexpect>4.3->ipython>=1.0->ipython-sql) (0.7.0)\nRequirement already satisfied: wcwidth in /opt/conda/envs/Python-3.8-main/lib/python3.8/site-packages (from prompt-toolkit!=3.0.0,!=3.0.1,<3.1.0,>=2.0.0->ipython>=1.0->ipython-sql) (0.2.5)\nBuilding wheels for collected packages: prettytable\n  Building wheel for prettytable (setup.py) ... \u001b[?25ldone\n\u001b[?25h  Created wheel for prettytable: filename=prettytable-0.7.2-py3-none-any.whl size=13700 sha256=5a0167b026f593cf66e1a0cebcbb072426bd95419e62a41df374b6f919f46d7f\n  Stored in directory: /tmp/wsuser/.cache/pip/wheels/48/6d/77/9517cb933af254f51a446f1a5ec9c2be3e45f17384940bce68\nSuccessfully built prettytable\nInstalling collected packages: sqlparse, prettytable, ipython-sql\nSuccessfully installed ipython-sql-0.4.0 prettytable-0.7.2 sqlparse-0.4.2\n"
                }
            ],
            "source": "!pip install sqlalchemy==1.3.9\n!pip install ibm_db_sa\n!pip install ipython-sql"
        },
        {
            "cell_type": "markdown",
            "metadata": {},
            "source": "### Connect to the database\n\nLet us first load the SQL extension and establish a connection with the database\n"
        },
        {
            "cell_type": "code",
            "execution_count": 2,
            "metadata": {},
            "outputs": [],
            "source": "%load_ext sql"
        },
        {
            "cell_type": "markdown",
            "metadata": {},
            "source": "**DB2 magic in case of old UI service credentials.**\n\nIn the next cell enter your db2 connection string. Recall you created Service Credentials for your Db2 instance before. From the **uri** field of your Db2 service credentials copy everything after db2:// (except the double quote at the end) and paste it in the cell below after ibm_db_sa://\n\n<img src =\"https://cf-courses-data.s3.us.cloud-object-storage.appdomain.cloud/IBMDeveloperSkillsNetwork-DB0201EN-SkillsNetwork/labs/FinalModule_edX/images/URI.jpg\">\n\nin the following format\n\n**%sql ibm_db_sa://my-username:my-password\\@my-hostname:my-port/my-db-name**\n\n**DB2 magic in case of new UI service credentials.**\n\n<img src =\"https://cf-courses-data.s3.us.cloud-object-storage.appdomain.cloud/IBM-DS0321EN-SkillsNetwork/labs/module_2/images/servicecredentials.png\" width=600>  \n\n*   Use the following format.\n\n*   Add security=SSL at the end\n\n**%sql ibm_db_sa://my-username:my-password\\@my-hostname:my-port/my-db-name?security=SSL**\n"
        },
        {
            "cell_type": "code",
            "execution_count": 3,
            "metadata": {},
            "outputs": [],
            "source": "import sqlite3\n\nconn = sqlite3.connect(\"aquarium.db\")"
        },
        {
            "cell_type": "code",
            "execution_count": 5,
            "metadata": {},
            "outputs": [
                {
                    "name": "stdout",
                    "output_type": "stream",
                    "text": "0\n"
                }
            ],
            "source": "print(conn.total_changes)"
        },
        {
            "cell_type": "code",
            "execution_count": 6,
            "metadata": {},
            "outputs": [
                {
                    "name": "stdout",
                    "output_type": "stream",
                    "text": "--2022-01-17 04:53:46--  https://cf-courses-data.s3.us.cloud-object-storage.appdomain.cloud/IBM-DS0321EN-SkillsNetwork/labs/module_2/data/Spacex.csv?utm_medium=Exinfluencer&utm_source=Exinfluencer&utm_content=000026UJ&utm_term=10006555&utm_id=NA-SkillsNetwork-Channel-SkillsNetworkCoursesIBMDS0321ENSkillsNetwork26802033-2021-01-01\nResolving cf-courses-data.s3.us.cloud-object-storage.appdomain.cloud (cf-courses-data.s3.us.cloud-object-storage.appdomain.cloud)... 198.23.119.245\nConnecting to cf-courses-data.s3.us.cloud-object-storage.appdomain.cloud (cf-courses-data.s3.us.cloud-object-storage.appdomain.cloud)|198.23.119.245|:443... connected.\nHTTP request sent, awaiting response... 200 OK\nLength: 11860 (12K) [text/csv]\nSaving to: \u2018spacex.csv\u2019\n\nspacex.csv          100%[===================>]  11.58K  --.-KB/s    in 0s      \n\n2022-01-17 04:53:47 (151 MB/s) - \u2018spacex.csv\u2019 saved [11860/11860]\n\n"
                }
            ],
            "source": "!wget \"https://cf-courses-data.s3.us.cloud-object-storage.appdomain.cloud/IBM-DS0321EN-SkillsNetwork/labs/module_2/data/Spacex.csv?utm_medium=Exinfluencer&utm_source=Exinfluencer&utm_content=000026UJ&utm_term=10006555&utm_id=NA-SkillsNetwork-Channel-SkillsNetworkCoursesIBMDS0321ENSkillsNetwork26802033-2021-01-01\" -O spacex.csv"
        },
        {
            "cell_type": "code",
            "execution_count": null,
            "metadata": {},
            "outputs": [],
            "source": "#import requests\n#resp = requests.get(\"\")\n#data = resp.text "
        },
        {
            "cell_type": "code",
            "execution_count": 7,
            "metadata": {},
            "outputs": [
                {
                    "ename": "NameError",
                    "evalue": "name 'con' is not defined",
                    "output_type": "error",
                    "traceback": [
                        "\u001b[0;31m---------------------------------------------------------------------------\u001b[0m",
                        "\u001b[0;31mNameError\u001b[0m                                 Traceback (most recent call last)",
                        "\u001b[0;32m/tmp/wsuser/ipykernel_154/1237710652.py\u001b[0m in \u001b[0;36m<module>\u001b[0;34m\u001b[0m\n\u001b[0;32m----> 1\u001b[0;31m \u001b[0mcon\u001b[0m\u001b[0;34m.\u001b[0m\u001b[0mexecute\u001b[0m\u001b[0;34m(\u001b[0m\u001b[0;34m\"drop table Spacex\"\u001b[0m\u001b[0;34m)\u001b[0m\u001b[0;34m\u001b[0m\u001b[0;34m\u001b[0m\u001b[0m\n\u001b[0m",
                        "\u001b[0;31mNameError\u001b[0m: name 'con' is not defined"
                    ]
                }
            ],
            "source": "con.execute(\"drop table Spacex\")"
        },
        {
            "cell_type": "code",
            "execution_count": 8,
            "metadata": {},
            "outputs": [],
            "source": "conn.execute(\"CREATE TABLE if not exists spacex ('Date','Time','BoosterVersion','LaunchSite','Payload','PyloadMassKg', 'Orbit','Customer','MissionOutcome','LandingOutcome')\") # use your column names here\nconn.commit()"
        },
        {
            "cell_type": "code",
            "execution_count": 9,
            "metadata": {},
            "outputs": [],
            "source": "import csv\n\nlst = []\nwith open(\"spacex.csv\", \"r\") as fin:\n    dr = csv.DictReader(fin)\n    for row in dr:\n        lst.append([row['Date'], row['Time (UTC)'], row['Booster_Version'], row['Launch_Site'], row['Payload'], row['PAYLOAD_MASS__KG_'], row['Orbit'], row['Customer'], row['Mission_Outcome'], row['Landing _Outcome']])"
        },
        {
            "cell_type": "code",
            "execution_count": 10,
            "metadata": {},
            "outputs": [],
            "source": "cur = conn.executemany(\"INSERT INTO spacex ('Date','Time','BoosterVersion','LaunchSite','Payload','PyloadMassKg','Orbit','Customer','MissionOutcome','LandingOutcome') VALUES (?, ?, ?, ?, ?, ?, ?, ?, ?, ?)\", lst)\nconn.commit()"
        },
        {
            "cell_type": "code",
            "execution_count": 21,
            "metadata": {},
            "outputs": [
                {
                    "data": {
                        "text/plain": "[('04-06-2010',\n  '18:45:00',\n  'F9 v1.0  B0003',\n  'CCAFS LC-40',\n  'Dragon Spacecraft Qualification Unit',\n  '0',\n  'LEO',\n  'SpaceX',\n  'Success',\n  'Failure (parachute)'),\n ('08-12-2010',\n  '15:43:00',\n  'F9 v1.0  B0004',\n  'CCAFS LC-40',\n  'Dragon demo flight C1, two CubeSats, barrel of Brouere cheese',\n  '0',\n  'LEO (ISS)',\n  'NASA (COTS) NRO',\n  'Success',\n  'Failure (parachute)'),\n ('22-05-2012',\n  '07:44:00',\n  'F9 v1.0  B0005',\n  'CCAFS LC-40',\n  'Dragon demo flight C2',\n  '525',\n  'LEO (ISS)',\n  'NASA (COTS)',\n  'Success',\n  'No attempt'),\n ('08-10-2012',\n  '00:35:00',\n  'F9 v1.0  B0006',\n  'CCAFS LC-40',\n  'SpaceX CRS-1',\n  '500',\n  'LEO (ISS)',\n  'NASA (CRS)',\n  'Success',\n  'No attempt'),\n ('01-03-2013',\n  '15:10:00',\n  'F9 v1.0  B0007',\n  'CCAFS LC-40',\n  'SpaceX CRS-2',\n  '677',\n  'LEO (ISS)',\n  'NASA (CRS)',\n  'Success',\n  'No attempt'),\n ('29-09-2013',\n  '16:00:00',\n  'F9 v1.1  B1003',\n  'VAFB SLC-4E',\n  'CASSIOPE',\n  '500',\n  'Polar LEO',\n  'MDA',\n  'Success',\n  'Uncontrolled (ocean)'),\n ('03-12-2013',\n  '22:41:00',\n  'F9 v1.1',\n  'CCAFS LC-40',\n  'SES-8',\n  '3170',\n  'GTO',\n  'SES',\n  'Success',\n  'No attempt'),\n ('06-01-2014',\n  '22:06:00',\n  'F9 v1.1',\n  'CCAFS LC-40',\n  'Thaicom 6',\n  '3325',\n  'GTO',\n  'Thaicom',\n  'Success',\n  'No attempt'),\n ('18-04-2014',\n  '19:25:00',\n  'F9 v1.1',\n  'CCAFS LC-40',\n  'SpaceX CRS-3',\n  '2296',\n  'LEO (ISS)',\n  'NASA (CRS)',\n  'Success',\n  'Controlled (ocean)'),\n ('14-07-2014',\n  '15:15:00',\n  'F9 v1.1',\n  'CCAFS LC-40',\n  'OG2 Mission 1  6 Orbcomm-OG2 satellites',\n  '1316',\n  'LEO',\n  'Orbcomm',\n  'Success',\n  'Controlled (ocean)'),\n ('05-08-2014',\n  '08:00:00',\n  'F9 v1.1',\n  'CCAFS LC-40',\n  'AsiaSat 8',\n  '4535',\n  'GTO',\n  'AsiaSat',\n  'Success',\n  'No attempt'),\n ('07-09-2014',\n  '05:00:00',\n  'F9 v1.1 B1011',\n  'CCAFS LC-40',\n  'AsiaSat 6',\n  '4428',\n  'GTO',\n  'AsiaSat',\n  'Success',\n  'No attempt'),\n ('21-09-2014',\n  '05:52:00',\n  'F9 v1.1 B1010',\n  'CCAFS LC-40',\n  'SpaceX CRS-4',\n  '2216',\n  'LEO (ISS)',\n  'NASA (CRS)',\n  'Success',\n  'Uncontrolled (ocean)'),\n ('10-01-2015',\n  '09:47:00',\n  'F9 v1.1 B1012',\n  'CCAFS LC-40',\n  'SpaceX CRS-5',\n  '2395',\n  'LEO (ISS)',\n  'NASA (CRS)',\n  'Success',\n  'Failure (drone ship)'),\n ('11-02-2015',\n  '23:03:00',\n  'F9 v1.1 B1013',\n  'CCAFS LC-40',\n  'DSCOVR',\n  '570',\n  'HEO',\n  'U.S. Air Force NASA NOAA',\n  'Success',\n  'Controlled (ocean)'),\n ('02-03-2015',\n  '03:50:00',\n  'F9 v1.1 B1014',\n  'CCAFS LC-40',\n  'ABS-3A Eutelsat 115 West B',\n  '4159',\n  'GTO',\n  'ABS Eutelsat',\n  'Success',\n  'No attempt'),\n ('14-04-2015',\n  '20:10:00',\n  'F9 v1.1 B1015',\n  'CCAFS LC-40',\n  'SpaceX CRS-6',\n  '1898',\n  'LEO (ISS)',\n  'NASA (CRS)',\n  'Success',\n  'Failure (drone ship)'),\n ('27-04-2015',\n  '23:03:00',\n  'F9 v1.1 B1016',\n  'CCAFS LC-40',\n  'Turkmen 52 / MonacoSAT',\n  '4707',\n  'GTO',\n  'Turkmenistan National Space Agency',\n  'Success',\n  'No attempt'),\n ('28-06-2015',\n  '14:21:00',\n  'F9 v1.1 B1018',\n  'CCAFS LC-40',\n  'SpaceX CRS-7',\n  '1952',\n  'LEO (ISS)',\n  'NASA (CRS)',\n  'Failure (in flight)',\n  'Precluded (drone ship)'),\n ('22-12-2015',\n  '01:29:00',\n  'F9 FT B1019',\n  'CCAFS LC-40',\n  'OG2 Mission 2  11 Orbcomm-OG2 satellites',\n  '2034',\n  'LEO',\n  'Orbcomm',\n  'Success',\n  'Success (ground pad)'),\n ('17-01-2016',\n  '18:42:00',\n  'F9 v1.1 B1017',\n  'VAFB SLC-4E',\n  'Jason-3',\n  '553',\n  'LEO',\n  'NASA (LSP) NOAA CNES',\n  'Success',\n  'Failure (drone ship)'),\n ('04-03-2016',\n  '23:35:00',\n  'F9 FT B1020',\n  'CCAFS LC-40',\n  'SES-9',\n  '5271',\n  'GTO',\n  'SES',\n  'Success',\n  'Failure (drone ship)'),\n ('08-04-2016',\n  '20:43:00',\n  'F9 FT B1021.1',\n  'CCAFS LC-40',\n  'SpaceX CRS-8',\n  '3136',\n  'LEO (ISS)',\n  'NASA (CRS)',\n  'Success',\n  'Success (drone ship)'),\n ('06-05-2016',\n  '05:21:00',\n  'F9 FT B1022',\n  'CCAFS LC-40',\n  'JCSAT-14',\n  '4696',\n  'GTO',\n  'SKY Perfect JSAT Group',\n  'Success',\n  'Success (drone ship)'),\n ('27-05-2016',\n  '21:39:00',\n  'F9 FT B1023.1',\n  'CCAFS LC-40',\n  'Thaicom 8',\n  '3100',\n  'GTO',\n  'Thaicom',\n  'Success',\n  'Success (drone ship)'),\n ('15-06-2016',\n  '14:29:00',\n  'F9 FT B1024',\n  'CCAFS LC-40',\n  'ABS-2A Eutelsat 117 West B',\n  '3600',\n  'GTO',\n  'ABS Eutelsat',\n  'Success',\n  'Failure (drone ship)'),\n ('18-07-2016',\n  '04:45:00',\n  'F9 FT B1025.1',\n  'CCAFS LC-40',\n  'SpaceX CRS-9',\n  '2257',\n  'LEO (ISS)',\n  'NASA (CRS)',\n  'Success',\n  'Success (ground pad)'),\n ('14-08-2016',\n  '05:26:00',\n  'F9 FT B1026',\n  'CCAFS LC-40',\n  'JCSAT-16',\n  '4600',\n  'GTO',\n  'SKY Perfect JSAT Group',\n  'Success',\n  'Success (drone ship)'),\n ('14-01-2017',\n  '17:54:00',\n  'F9 FT B1029.1',\n  'VAFB SLC-4E',\n  'Iridium NEXT 1',\n  '9600',\n  'Polar LEO',\n  'Iridium Communications',\n  'Success',\n  'Success (drone ship)'),\n ('19-02-2017',\n  '14:39:00',\n  'F9 FT B1031.1',\n  'KSC LC-39A',\n  'SpaceX CRS-10',\n  '2490',\n  'LEO (ISS)',\n  'NASA (CRS)',\n  'Success',\n  'Success (ground pad)'),\n ('16-03-2017',\n  '06:00:00',\n  'F9 FT B1030',\n  'KSC LC-39A',\n  'EchoStar 23',\n  '5600',\n  'GTO',\n  'EchoStar',\n  'Success',\n  'No attempt'),\n ('30-03-2017',\n  '22:27:00',\n  'F9 FT  B1021.2',\n  'KSC LC-39A',\n  'SES-10',\n  '5300',\n  'GTO',\n  'SES',\n  'Success',\n  'Success (drone ship)'),\n ('01-05-2017',\n  '11:15:00',\n  'F9 FT B1032.1',\n  'KSC LC-39A',\n  'NROL-76',\n  '5300',\n  'LEO',\n  'NRO',\n  'Success',\n  'Success (ground pad)'),\n ('15-05-2017',\n  '23:21:00',\n  'F9 FT B1034',\n  'KSC LC-39A',\n  'Inmarsat-5 F4',\n  '6070',\n  'GTO',\n  'Inmarsat',\n  'Success',\n  'No attempt'),\n ('03-06-2017',\n  '21:07:00',\n  'F9 FT B1035.1',\n  'KSC LC-39A',\n  'SpaceX CRS-11',\n  '2708',\n  'LEO (ISS)',\n  'NASA (CRS)',\n  'Success',\n  'Success (ground pad)'),\n ('23-06-2017',\n  '19:10:00',\n  'F9 FT  B1029.2',\n  'KSC LC-39A',\n  'BulgariaSat-1',\n  '3669',\n  'GTO',\n  'Bulsatcom',\n  'Success',\n  'Success (drone ship)'),\n ('25-06-2017',\n  '20:25:00',\n  'F9 FT B1036.1',\n  'VAFB SLC-4E',\n  'Iridium NEXT 2',\n  '9600',\n  'LEO',\n  'Iridium Communications',\n  'Success',\n  'Success (drone ship)'),\n ('05-07-2017',\n  '23:38:00',\n  'F9 FT B1037',\n  'KSC LC-39A',\n  'Intelsat 35e',\n  '6761',\n  'GTO',\n  'Intelsat',\n  'Success',\n  'No attempt'),\n ('14-08-2017',\n  '16:31:00',\n  'F9 B4 B1039.1',\n  'KSC LC-39A',\n  'SpaceX CRS-12',\n  '3310',\n  'LEO (ISS)',\n  'NASA (CRS)',\n  'Success',\n  'Success (ground pad)'),\n ('24-08-2017',\n  '18:51:00',\n  'F9 FT B1038.1',\n  'VAFB SLC-4E',\n  'Formosat-5',\n  '475',\n  'SSO',\n  'NSPO',\n  'Success',\n  'Success (drone ship)'),\n ('07-09-2017',\n  '14:00:00',\n  'F9 B4 B1040.1',\n  'KSC LC-39A',\n  'Boeing X-37B OTV-5',\n  '4990',\n  'LEO',\n  'U.S. Air Force',\n  'Success',\n  'Success (ground pad)'),\n ('09-10-2017',\n  '12:37:00',\n  'F9 B4 B1041.1',\n  'VAFB SLC-4E',\n  'Iridium NEXT 3',\n  '9600',\n  'Polar LEO',\n  'Iridium Communications',\n  'Success',\n  'Success (drone ship)'),\n ('11-10-2017',\n  '22:53:00',\n  'F9 FT  B1031.2',\n  'KSC LC-39A',\n  'SES-11 / EchoStar 105',\n  '5200',\n  'GTO',\n  'SES EchoStar',\n  'Success',\n  'Success (drone ship)'),\n ('30-10-2017',\n  '19:34:00',\n  'F9 B4 B1042.1',\n  'KSC LC-39A',\n  'Koreasat 5A',\n  '3500',\n  'GTO',\n  'KT Corporation',\n  'Success',\n  'Success (drone ship)'),\n ('15-12-2017',\n  '15:36:00',\n  'F9 FT  B1035.2',\n  'CCAFS SLC-40',\n  'SpaceX CRS-13',\n  '2205',\n  'LEO (ISS)',\n  'NASA (CRS)',\n  'Success',\n  'Success (ground pad)'),\n ('23-12-2017',\n  '01:27:00',\n  'F9 FT  B1036.2',\n  'VAFB SLC-4E',\n  'Iridium NEXT 4',\n  '9600',\n  'Polar LEO',\n  'Iridium Communications',\n  'Success',\n  'Controlled (ocean)'),\n ('08-01-2018',\n  '01:00:00',\n  'F9 B4 B1043.1',\n  'CCAFS SLC-40',\n  'Zuma',\n  '5000',\n  'LEO',\n  'Northrop Grumman',\n  'Success (payload status unclear)',\n  'Success (ground pad)'),\n ('31-01-2018',\n  '21:25:00',\n  'F9 FT  B1032.2',\n  'CCAFS SLC-40',\n  'GovSat-1 / SES-16',\n  '4230',\n  'GTO',\n  'SES',\n  'Success',\n  'Controlled (ocean)'),\n ('22-02-2018',\n  '14:17:00',\n  'F9 FT  B1038.2',\n  'VAFB SLC-4E',\n  'Paz  Tintin A & B',\n  '2150',\n  'SSO',\n  'Hisdesat exactEarth SpaceX',\n  'Success',\n  'No attempt'),\n ('06-03-2018',\n  '05:33:00',\n  'F9 B4 B1044',\n  'CCAFS SLC-40',\n  'Hispasat 30W-6  PODSat',\n  '6092',\n  'GTO',\n  'Hispasat  NovaWurks',\n  'Success',\n  'No attempt'),\n ('30-03-2018',\n  '14:14:00',\n  'F9 B4  B1041.2',\n  'VAFB SLC-4E',\n  'Iridium NEXT 5',\n  '9600',\n  'Polar LEO',\n  'Iridium Communications',\n  'Success',\n  'No attempt'),\n ('02-04-2018',\n  '20:30:00',\n  'F9 B4  B1039.2',\n  'CCAFS SLC-40',\n  'SpaceX CRS-14',\n  '2647',\n  'LEO (ISS)',\n  'NASA (CRS)',\n  'Success',\n  'No attempt'),\n ('18-04-2018',\n  '22:51:00',\n  'F9 B4 B1045.1',\n  'CCAFS SLC-40',\n  'Transiting Exoplanet Survey Satellite (TESS)',\n  '362',\n  'HEO',\n  'NASA (LSP)',\n  'Success',\n  'Success (drone ship)'),\n ('11-05-2018',\n  '20:14:00',\n  'F9 B5  B1046.1',\n  'KSC LC-39A',\n  'Bangabandhu-1',\n  '3600',\n  'GTO',\n  'Thales-Alenia/BTRC',\n  'Success',\n  'Success (drone ship)'),\n ('22-05-2018',\n  '19:47:58',\n  'F9 B4  B1043.2',\n  'VAFB SLC-4E',\n  'Iridium NEXT 6   GRACE-FO 1, 2',\n  '6460',\n  'Polar LEO',\n  'Iridium Communications GFZ \u201a NASA',\n  'Success',\n  'No attempt'),\n ('04-06-2018',\n  '04:45:00',\n  'F9 B4  B1040.2',\n  'CCAFS SLC-40',\n  'SES-12',\n  '5384',\n  'GTO',\n  'SES',\n  'Success',\n  'No attempt'),\n ('29-06-2018',\n  '09:42:00',\n  'F9 B4 B1045.2',\n  'CCAFS SLC-40',\n  'SpaceX CRS-15',\n  '2697',\n  'LEO (ISS)',\n  'NASA (CRS)',\n  'Success',\n  'No attempt'),\n ('22-07-2018',\n  '05:50:00',\n  'F9 B5B1047.1',\n  'CCAFS SLC-40',\n  'Telstar 19V',\n  '7075',\n  'GTO',\n  'Telesat',\n  'Success',\n  'Success'),\n ('25-07-2018',\n  '11:39:00',\n  'F9 B5B1048.1',\n  'VAFB SLC-4E',\n  'Iridium NEXT-7',\n  '9600',\n  'Polar LEO',\n  'Iridium Communications',\n  'Success',\n  'Success'),\n ('07-08-2018',\n  '05:18:00',\n  'F9 B5 B1046.2',\n  'CCAFS SLC-40',\n  'Merah Putih ',\n  '5800',\n  'GTO',\n  'Telkom Indonesia',\n  'Success',\n  'Success'),\n ('10-09-2018',\n  '04:45:00',\n  'F9 B5B1049.1',\n  'CCAFS SLC-40',\n  'Telstar 18V / Apstar-5C',\n  '7060',\n  'GTO',\n  'Telesat',\n  'Success',\n  'Success'),\n ('08-10-2018',\n  '02:22:00',\n  'F9 B5 B1048.2',\n  'VAFB SLC-4E',\n  'SAOCOM 1A',\n  '3000',\n  'SSO',\n  'CONAE',\n  'Success',\n  'Success'),\n ('15-11-2018',\n  '20:46:00',\n  'F9 B5 B1047.2',\n  'KSC LC-39A',\n  'Es hail 2',\n  '5300',\n  'GTO',\n  'Es hailSat',\n  'Success',\n  'Success'),\n ('03-12-2018',\n  '18:34:05',\n  'F9 B5 B1046.3',\n  'VAFB SLC-4E',\n  'SSO-A ',\n  '4000',\n  'SSO',\n  'Spaceflight Industries',\n  'Success',\n  'Success'),\n ('05-12-2018',\n  '18:16:00',\n  'F9 B5B1050',\n  'CCAFS SLC-40',\n  'SpaceX CRS-16',\n  '2500',\n  'LEO (ISS)',\n  'NASA (CRS)',\n  'Success',\n  'Failure'),\n ('23-12-2018',\n  '13:51:00',\n  'F9 B5B1054',\n  'CCAFS SLC-40',\n  'GPS III-01 ',\n  '4400',\n  'MEO',\n  'USAF',\n  'Success ',\n  'No attempt'),\n ('11-01-2019',\n  '15:31:00',\n  'F9 B5 B1049.2',\n  'VAFB SLC-4E',\n  'Iridium NEXT-8',\n  '9600',\n  'Polar LEO',\n  'Iridium Communications',\n  'Success',\n  'Success'),\n ('22-02-2019',\n  '01:45:00',\n  'F9 B5 B1048.3',\n  'CCAFS SLC-40',\n  'Nusantara Satu, Beresheet Moon lander, S5',\n  '4850',\n  'GTO',\n  'PSN, SpaceIL / IAI',\n  'Success',\n  'Success'),\n ('02-03-2019',\n  '07:49:00',\n  'F9 B5B1051.1',\n  'KSC LC-39A',\n  'Crew Dragon Demo-1, SpaceX CRS-17 ',\n  '12055',\n  'LEO (ISS)',\n  'NASA (CCD) ',\n  'Success',\n  'Success'),\n ('04-05-2019',\n  '06:48:00',\n  'F9 B5B1056.1 ',\n  'CCAFS SLC-40',\n  'SpaceX CRS-17, Starlink v0.9',\n  '2495',\n  'LEO (ISS)',\n  'NASA (CRS)',\n  'Success',\n  'Success'),\n ('24-05-2019',\n  '02:30:00',\n  'F9 B5 B1049.3',\n  'CCAFS SLC-40',\n  'Starlink v0.9, RADARSAT Constellation',\n  '13620',\n  'LEO',\n  'SpaceX',\n  'Success',\n  'Success'),\n ('12-06-2019',\n  '14:17:00',\n  'F9 B5 B1051.2 ',\n  'VAFB SLC-4E',\n  'RADARSAT Constellation, SpaceX CRS-18 ',\n  '4200',\n  'SSO',\n  'Canadian Space Agency (CSA)',\n  'Success',\n  'Success'),\n ('25-07-2019',\n  '22:01:00',\n  'F9 B5 B1056.2 ',\n  'CCAFS SLC-40',\n  'SpaceX CRS-18, AMOS-17 ',\n  '2268',\n  'LEO (ISS)',\n  'NASA (CRS)',\n  'Success',\n  'Success'),\n ('06-08-2019',\n  '23:23:00',\n  'F9 B5 B1047.3 ',\n  'CCAFS SLC-40',\n  'AMOS-17, Starlink 1 v1.0 ',\n  '6500',\n  'GTO',\n  'Spacecom',\n  'Success',\n  'No attempt '),\n ('11-11-2019',\n  '14:56:00',\n  'F9 B5 B1048.4',\n  'CCAFS SLC-40',\n  'Starlink 1 v1.0, SpaceX CRS-19 ',\n  '15600',\n  'LEO',\n  'SpaceX',\n  'Success',\n  'Success'),\n ('05-12-2019',\n  '17:29:00',\n  'F9 B5B1059.1',\n  'CCAFS SLC-40',\n  'SpaceX CRS-19, JCSat-18 / Kacific 1 ',\n  '2617',\n  'LEO (ISS)',\n  'NASA (CRS), Kacific 1',\n  'Success',\n  'Success'),\n ('17-12-2019',\n  '00:10:00',\n  'F9 B5 B1056.3 ',\n  'CCAFS SLC-40',\n  'JCSat-18 / Kacific 1, Starlink 2 v1.0 ',\n  '6956',\n  'GTO',\n  'Sky Perfect JSAT, Kacific 1',\n  'Success',\n  'Success'),\n ('07-01-2020',\n  '02:33:00',\n  'F9 B5 B1049.4',\n  'CCAFS SLC-40',\n  'Starlink 2 v1.0, Crew Dragon in-flight abort test ',\n  '15600',\n  'LEO',\n  'SpaceX',\n  'Success',\n  'Success'),\n ('19-01-2020',\n  '15:30:00',\n  'F9 B5 B1046.4',\n  'KSC LC-39A',\n  'Crew Dragon in-flight abort test, Starlink 3 v1.0 ',\n  '12050',\n  'Sub-orbital',\n  'NASA (CTS)',\n  'Success',\n  'No attempt'),\n ('29-01-2020',\n  '14:07:00',\n  'F9 B5 B1051.3',\n  'CCAFS SLC-40',\n  'Starlink 3 v1.0, Starlink 4 v1.0 ',\n  '15600',\n  'LEO',\n  'SpaceX',\n  'Success',\n  'Success'),\n ('17-02-2020',\n  '15:05:00',\n  'F9 B5 B1056.4',\n  'CCAFS SLC-40',\n  'Starlink 4 v1.0, SpaceX CRS-20',\n  '15600',\n  'LEO',\n  'SpaceX',\n  'Success',\n  'Failure'),\n ('07-03-2020',\n  '04:50:00',\n  'F9 B5 B1059.2',\n  'CCAFS SLC-40',\n  'SpaceX CRS-20, Starlink 5 v1.0 ',\n  '1977',\n  'LEO (ISS)',\n  'NASA (CRS)',\n  'Success',\n  'Success'),\n ('18-03-2020',\n  '12:16:00',\n  'F9 B5 B1048.5',\n  'KSC LC-39A',\n  'Starlink 5 v1.0, Starlink 6 v1.0 ',\n  '15600',\n  'LEO',\n  'SpaceX',\n  'Success',\n  'Failure'),\n ('22-04-2020',\n  '19:30:00',\n  'F9 B5 B1051.4',\n  'KSC LC-39A',\n  'Starlink 6 v1.0, Crew Dragon Demo-2 ',\n  '15600',\n  'LEO',\n  'SpaceX',\n  'Success',\n  'Success'),\n ('30-05-2020',\n  '19:22:00',\n  'F9 B5B1058.1 ',\n  'KSC LC-39A',\n  'Crew Dragon Demo-2, Starlink 7 v1.0 ',\n  '12530',\n  'LEO (ISS)',\n  'NASA (CCDev)',\n  'Success',\n  'Success'),\n ('04-06-2020',\n  '01:25:00',\n  'F9 B5 B1049.5',\n  'CCAFS SLC-40',\n  'Starlink 7 v1.0, Starlink 8 v1.0',\n  '15600',\n  'LEO',\n  'SpaceX, Planet Labs',\n  'Success',\n  'Success'),\n ('13-06-2020',\n  '09:21:00',\n  'F9 B5 B1059.3',\n  'CCAFS SLC-40',\n  'Starlink 8 v1.0, SkySats-16, -17, -18, GPS III-03 ',\n  '15410',\n  'LEO',\n  'SpaceX, Planet Labs',\n  'Success',\n  'Success'),\n ('30-06-2020',\n  '20:10:46',\n  'F9 B5B1060.1',\n  'CCAFS SLC-40',\n  'GPS III-03, ANASIS-II',\n  '4311',\n  'MEO',\n  'U.S. Space Force',\n  'Success',\n  'Success'),\n ('20-07-2020',\n  '21:30:00',\n  'F9 B5 B1058.2 ',\n  'CCAFS SLC-40',\n  'ANASIS-II, Starlink 9 v1.0',\n  '5500',\n  'GTO',\n  'Republic of Korea Army, Spaceflight Industries (BlackSky)',\n  'Success',\n  'Success'),\n ('07-08-2020',\n  '05:12:00',\n  'F9 B5 B1051.5',\n  'KSC LC-39A',\n  'Starlink 9 v1.0, SXRS-1, Starlink 10 v1.0 ',\n  '14932',\n  'LEO',\n  'SpaceX, Spaceflight Industries (BlackSky), Planet Labs',\n  'Success',\n  'Success'),\n ('18-08-2020',\n  '14:31:00',\n  'F9 B5 B1049.6',\n  'CCAFS SLC-40',\n  'Starlink 10 v1.0, SkySat-19, -20, -21, SAOCOM 1B ',\n  '15440',\n  'LEO',\n  'SpaceX, Planet Labs, PlanetIQ',\n  'Success',\n  'Success'),\n ('30-08-2020',\n  '23:18:00',\n  'F9 B5 B1059.4',\n  'CCAFS SLC-40',\n  'SAOCOM 1B, GNOMES 1, Tyvak-0172',\n  '3130',\n  'SSO',\n  'CONAE, PlanetIQ, SpaceX',\n  'Success',\n  'Success'),\n ('03-09-2020',\n  '12:46:14',\n  'F9 B5 B1060.2 ',\n  'KSC LC-39A',\n  'Starlink 11 v1.0, Starlink 12 v1.0 ',\n  '15600',\n  'LEO',\n  'SpaceX',\n  'Success',\n  'Success'),\n ('06-10-2020',\n  '11:29:34',\n  'F9 B5 B1058.3 ',\n  'KSC LC-39A',\n  'Starlink 12 v1.0, Starlink 13 v1.0 ',\n  '15600',\n  'LEO',\n  'SpaceX',\n  'Success',\n  'Success'),\n ('18-10-2020',\n  '12:25:57',\n  'F9 B5 B1051.6',\n  'KSC LC-39A',\n  'Starlink 13 v1.0, Starlink 14 v1.0 ',\n  '15600',\n  'LEO',\n  'SpaceX',\n  'Success',\n  'Success'),\n ('24-10-2020',\n  '15:31:34',\n  'F9 B5 B1060.3',\n  'CCAFS SLC-40',\n  'Starlink 14 v1.0, GPS III-04  ',\n  '15600',\n  'LEO',\n  'SpaceX',\n  'Success',\n  'Success'),\n ('05-11-2020',\n  '23:24:23',\n  'F9 B5B1062.1',\n  'CCAFS SLC-40',\n  'GPS III-04 , Crew-1',\n  '4311',\n  'MEO',\n  'USSF',\n  'Success',\n  'Success'),\n ('16-11-2020',\n  '00:27:00',\n  'F9 B5B1061.1 ',\n  'KSC LC-39A',\n  'Crew-1, Sentinel-6 Michael Freilich ',\n  '12500',\n  'LEO (ISS)',\n  'NASA (CCP)',\n  'Success',\n  'Success'),\n ('21-11-2020',\n  '17:17:08',\n  'F9 B5B1063.1',\n  'VAFB SLC-4E',\n  'Sentinel-6 Michael Freilich, Starlink 15 v1.0 ',\n  '1192',\n  'LEO',\n  'NASA / NOAA / ESA / EUMETSAT',\n  'Success',\n  'Success'),\n ('25-11-2020',\n  '02:13:00',\n  'F9 B5 B1049.7 ',\n  'CCAFS SLC-40',\n  'Starlink 15 v1.0, SpaceX CRS-21',\n  '15600',\n  'LEO',\n  'SpaceX',\n  'Success',\n  'Success'),\n ('06-12-2020',\n  '16:17:08',\n  'F9 B5 B1058.4 ',\n  'KSC LC-39A',\n  'SpaceX CRS-21',\n  '2972',\n  'LEO (ISS)',\n  'NASA (CRS)',\n  'Success',\n  'Success')]"
                    },
                    "execution_count": 21,
                    "metadata": {},
                    "output_type": "execute_result"
                }
            ],
            "source": "cur = conn.execute(\"select * from spacex\")\ncur.fetchall()"
        },
        {
            "cell_type": "code",
            "execution_count": 12,
            "metadata": {},
            "outputs": [
                {
                    "data": {
                        "text/plain": "[('CCAFS LC-40',), ('VAFB SLC-4E',), ('KSC LC-39A',), ('CCAFS SLC-40',)]"
                    },
                    "execution_count": 12,
                    "metadata": {},
                    "output_type": "execute_result"
                }
            ],
            "source": "cur = conn.execute(\"Select distinct LaunchSite from spacex\")\ncur.fetchall()"
        },
        {
            "cell_type": "markdown",
            "metadata": {},
            "source": "## Tasks\n\nNow write and execute SQL queries to solve the assignment tasks.\n\n### Task 1\n\n##### Display the names of the unique launch sites  in the space mission\n"
        },
        {
            "cell_type": "markdown",
            "metadata": {},
            "source": "### Task 2\n\n##### Display 5 records where launch sites begin with the string 'CCA'\n"
        },
        {
            "cell_type": "code",
            "execution_count": 13,
            "metadata": {},
            "outputs": [
                {
                    "data": {
                        "text/plain": "[('04-06-2010',\n  '18:45:00',\n  'F9 v1.0  B0003',\n  'CCAFS LC-40',\n  'Dragon Spacecraft Qualification Unit',\n  '0',\n  'LEO',\n  'SpaceX',\n  'Success',\n  'Failure (parachute)'),\n ('08-12-2010',\n  '15:43:00',\n  'F9 v1.0  B0004',\n  'CCAFS LC-40',\n  'Dragon demo flight C1, two CubeSats, barrel of Brouere cheese',\n  '0',\n  'LEO (ISS)',\n  'NASA (COTS) NRO',\n  'Success',\n  'Failure (parachute)'),\n ('22-05-2012',\n  '07:44:00',\n  'F9 v1.0  B0005',\n  'CCAFS LC-40',\n  'Dragon demo flight C2',\n  '525',\n  'LEO (ISS)',\n  'NASA (COTS)',\n  'Success',\n  'No attempt'),\n ('08-10-2012',\n  '00:35:00',\n  'F9 v1.0  B0006',\n  'CCAFS LC-40',\n  'SpaceX CRS-1',\n  '500',\n  'LEO (ISS)',\n  'NASA (CRS)',\n  'Success',\n  'No attempt'),\n ('01-03-2013',\n  '15:10:00',\n  'F9 v1.0  B0007',\n  'CCAFS LC-40',\n  'SpaceX CRS-2',\n  '677',\n  'LEO (ISS)',\n  'NASA (CRS)',\n  'Success',\n  'No attempt')]"
                    },
                    "execution_count": 13,
                    "metadata": {},
                    "output_type": "execute_result"
                }
            ],
            "source": "cur = conn.execute(\"SELECT * FROM spacex WHERE LaunchSite LIKE 'CCA%' limit 5\")\ncur.fetchall()\n"
        },
        {
            "cell_type": "markdown",
            "metadata": {},
            "source": "### Task 3\n\n##### Display the total payload mass carried by boosters launched by NASA (CRS)\n"
        },
        {
            "cell_type": "code",
            "execution_count": 14,
            "metadata": {},
            "outputs": [
                {
                    "data": {
                        "text/plain": "[(45596,)]"
                    },
                    "execution_count": 14,
                    "metadata": {},
                    "output_type": "execute_result"
                }
            ],
            "source": "cur = conn.execute(\"select sum(PyloadMassKg) FROM spacex where Customer = 'NASA (CRS)'\")\ncur.fetchall()"
        },
        {
            "cell_type": "markdown",
            "metadata": {},
            "source": "### Task 4\n\n##### Display average payload mass carried by booster version F9 v1.1\n"
        },
        {
            "cell_type": "code",
            "execution_count": 15,
            "metadata": {},
            "outputs": [
                {
                    "data": {
                        "text/plain": "[(2928.4,)]"
                    },
                    "execution_count": 15,
                    "metadata": {},
                    "output_type": "execute_result"
                }
            ],
            "source": "cur = conn.execute(\"select avg(PyloadMasskg) from spacex where BoosterVersion = 'F9 v1.1'\")\ncur.fetchall()\n#select avg(PAYLOAD_MASS__KG_) where Booster_Version"
        },
        {
            "cell_type": "markdown",
            "metadata": {},
            "source": "### Task 5\n\n##### List the date when the first successful landing outcome in ground pad was acheived.\n\n*Hint:Use min function*\n"
        },
        {
            "cell_type": "code",
            "execution_count": 22,
            "metadata": {},
            "outputs": [
                {
                    "data": {
                        "text/plain": "[('01-05-2017',)]"
                    },
                    "execution_count": 22,
                    "metadata": {},
                    "output_type": "execute_result"
                }
            ],
            "source": "cur = conn.execute(\"select min(Date) from spacex where LandingOutcome LIKE '%Success%'\")\ncur.fetchall()\n#select min(Date) where Landing _Outcome = "
        },
        {
            "cell_type": "markdown",
            "metadata": {},
            "source": "### Task 6\n\n##### List the names of the boosters which have success in drone ship and have payload mass greater than 4000 but less than 6000\n"
        },
        {
            "cell_type": "code",
            "execution_count": 32,
            "metadata": {},
            "outputs": [
                {
                    "data": {
                        "text/plain": "[]"
                    },
                    "execution_count": 32,
                    "metadata": {},
                    "output_type": "execute_result"
                }
            ],
            "source": "cur = conn.execute(\"select BoosterVersion, PyloadMasskg from spacex where LandingOutcome ='Success (drone ship)' and PyloadMasskg between 4000 and 6000 \")\ncur.fetchall()"
        },
        {
            "cell_type": "markdown",
            "metadata": {},
            "source": "### Task 7\n\n##### List the total number of successful and failure mission outcomes\n"
        },
        {
            "cell_type": "code",
            "execution_count": 37,
            "metadata": {},
            "outputs": [
                {
                    "data": {
                        "text/plain": "[('Failure (in flight)', 1),\n ('Success', 98),\n ('Success ', 1),\n ('Success (payload status unclear)', 1)]"
                    },
                    "execution_count": 37,
                    "metadata": {},
                    "output_type": "execute_result"
                }
            ],
            "source": "cur = conn.execute(\"select MissionOutcome, count(MissionOutcome) as count from spacex group by MissionOutcome  \")\ncur.fetchall()"
        },
        {
            "cell_type": "markdown",
            "metadata": {},
            "source": "### Task 8\n\n##### List the   names of the booster_versions which have carried the maximum payload mass. Use a subquery\n"
        },
        {
            "cell_type": "code",
            "execution_count": 68,
            "metadata": {},
            "outputs": [
                {
                    "data": {
                        "text/plain": "[('F9 FT B1029.1', '9600'),\n ('F9 FT B1036.1', '9600'),\n ('F9 B4 B1041.1', '9600'),\n ('F9 FT  B1036.2', '9600'),\n ('F9 B4  B1041.2', '9600'),\n ('F9 B5B1048.1', '9600'),\n ('F9 B5 B1049.2', '9600')]"
                    },
                    "execution_count": 68,
                    "metadata": {},
                    "output_type": "execute_result"
                }
            ],
            "source": "cur = conn.execute(\" select BoosterVersion, PyloadMasskg from spacex where PyloadMasskg = (select MAX(PyloadMasskg) from spacex)\")\ncur.fetchall()"
        },
        {
            "cell_type": "markdown",
            "metadata": {},
            "source": "### Task 9\n\n##### List the failed landing_outcomes in drone ship, their booster versions, and launch site names for in year 2015\n"
        },
        {
            "cell_type": "code",
            "execution_count": 45,
            "metadata": {},
            "outputs": [
                {
                    "data": {
                        "text/plain": "[('01', 'Failure (drone ship)', 'F9 v1.1 B1012', 'CCAFS LC-40'),\n ('04', 'Failure (drone ship)', 'F9 v1.1 B1015', 'CCAFS LC-40')]"
                    },
                    "execution_count": 45,
                    "metadata": {},
                    "output_type": "execute_result"
                }
            ],
            "source": "cur = conn.execute(\"SELECT substr(Date, 4, 2) as Month, LandingOutcome, BoosterVersion,LaunchSite  FROM spacex where LandingOutcome = 'Failure (drone ship)' AND substr(Date,7,4)='2015'\")\ncur.fetchall()"
        },
        {
            "cell_type": "markdown",
            "metadata": {},
            "source": "### Task 10\n\n##### Rank the count of landing outcomes (such as Failure (drone ship) or Success (ground pad)) between the date 2010-06-04 and 2017-03-20, in descending order\n"
        },
        {
            "cell_type": "code",
            "execution_count": 63,
            "metadata": {},
            "outputs": [
                {
                    "data": {
                        "text/plain": "[('Success', 20), ('Success (drone ship)', 8), ('Success (ground pad)', 6)]"
                    },
                    "execution_count": 63,
                    "metadata": {},
                    "output_type": "execute_result"
                }
            ],
            "source": "cur = conn.execute(\"select LandingOutcome,count(LandingOutcome) from spacex where LandingOutcome LIKE '%success%' AND Date between '04-06-2010' and '20-03-2017' group by LandingOutcome order by count(LandingOutcome) DESC \")\ncur.fetchall()"
        },
        {
            "cell_type": "markdown",
            "metadata": {},
            "source": "### Reference Links\n\n*   <a href =\"https://cf-courses-data.s3.us.cloud-object-storage.appdomain.cloud/IBMDeveloperSkillsNetwork-DB0201EN-SkillsNetwork/labs/Labs_Coursera_V5/labs/Lab%20-%20String%20Patterns%20-%20Sorting%20-%20Grouping/instructional-labs.md.html?utm_medium=Exinfluencer&utm_source=Exinfluencer&utm_content=000026UJ&utm_term=10006555&utm_id=NA-SkillsNetwork-Channel-SkillsNetworkCoursesIBMDS0321ENSkillsNetwork26802033-2021-01-01&origin=www.coursera.org\">Hands-on Lab : String Patterns, Sorting and Grouping</a>\n\n*   <a  href=\"https://cf-courses-data.s3.us.cloud-object-storage.appdomain.cloud/IBMDeveloperSkillsNetwork-DB0201EN-SkillsNetwork/labs/Labs_Coursera_V5/labs/Lab%20-%20Built-in%20functions%20/Hands-on_Lab__Built-in_Functions.md.html?utm_medium=Exinfluencer&utm_source=Exinfluencer&utm_content=000026UJ&utm_term=10006555&utm_id=NA-SkillsNetwork-Channel-SkillsNetworkCoursesIBMDS0321ENSkillsNetwork26802033-2021-01-01&origin=www.coursera.org\">Hands-on Lab: Built-in functions</a>\n\n*   <a  href=\"https://cf-courses-data.s3.us.cloud-object-storage.appdomain.cloud/IBMDeveloperSkillsNetwork-DB0201EN-SkillsNetwork/labs/Labs_Coursera_V5/labs/Lab%20-%20Sub-queries%20and%20Nested%20SELECTs%20/instructional-labs.md.html?utm_medium=Exinfluencer&utm_source=Exinfluencer&utm_content=000026UJ&utm_term=10006555&utm_id=NA-SkillsNetwork-Channel-SkillsNetworkCoursesIBMDS0321ENSkillsNetwork26802033-2021-01-01&origin=www.coursera.org\">Hands-on Lab : Sub-queries and Nested SELECT Statements</a>\n\n*   <a href=\"https://cf-courses-data.s3.us.cloud-object-storage.appdomain.cloud/IBMDeveloperSkillsNetwork-DB0201EN-SkillsNetwork/labs/Module%205/DB0201EN-Week3-1-3-SQLmagic.ipynb?utm_medium=Exinfluencer&utm_source=Exinfluencer&utm_content=000026UJ&utm_term=10006555&utm_id=NA-SkillsNetwork-Channel-SkillsNetworkCoursesIBMDS0321ENSkillsNetwork26802033-2021-01-01\">Hands-on Tutorial: Accessing Databases with SQL magic</a>\n\n*   <a href= \"https://cf-courses-data.s3.us.cloud-object-storage.appdomain.cloud/IBMDeveloperSkillsNetwork-DB0201EN-SkillsNetwork/labs/Module%205/DB0201EN-Week3-1-4-Analyzing.ipynb?utm_medium=Exinfluencer&utm_source=Exinfluencer&utm_content=000026UJ&utm_term=10006555&utm_id=NA-SkillsNetwork-Channel-SkillsNetworkCoursesIBMDS0321ENSkillsNetwork26802033-2021-01-01\">Hands-on Lab: Analyzing a real World Data Set</a>\n"
        },
        {
            "cell_type": "markdown",
            "metadata": {},
            "source": "## Author(s)\n\n<h4> Lakshmi Holla </h4>\n"
        },
        {
            "cell_type": "markdown",
            "metadata": {},
            "source": "## Other Contributors\n\n<h4> Rav Ahuja </h4>\n"
        },
        {
            "cell_type": "markdown",
            "metadata": {},
            "source": "## Change log\n\n| Date       | Version | Changed by    | Change Description        |\n| ---------- | ------- | ------------- | ------------------------- |\n| 2021-10-12 | 0.4     | Lakshmi Holla | Changed markdown          |\n| 2021-08-24 | 0.3     | Lakshmi Holla | Added library update      |\n| 2021-07-09 | 0.2     | Lakshmi Holla | Changes made in magic sql |\n| 2021-05-20 | 0.1     | Lakshmi Holla | Created Initial Version   |\n"
        },
        {
            "cell_type": "markdown",
            "metadata": {},
            "source": "## <h3 align=\"center\"> \u00a9 IBM Corporation 2021. All rights reserved. <h3/>\n"
        }
    ],
    "metadata": {
        "kernelspec": {
            "display_name": "Python 3.8",
            "language": "python",
            "name": "python3"
        },
        "language_info": {
            "codemirror_mode": {
                "name": "ipython",
                "version": 3
            },
            "file_extension": ".py",
            "mimetype": "text/x-python",
            "name": "python",
            "nbconvert_exporter": "python",
            "pygments_lexer": "ipython3",
            "version": "3.8.12"
        }
    },
    "nbformat": 4,
    "nbformat_minor": 4
}